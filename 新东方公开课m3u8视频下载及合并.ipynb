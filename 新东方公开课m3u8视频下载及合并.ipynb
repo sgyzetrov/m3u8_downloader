{
 "cells": [
  {
   "cell_type": "code",
   "execution_count": null,
   "metadata": {},
   "outputs": [],
   "source": [
    "import os\n",
    "import sys\n",
    "import requests\n",
    "import m3u8"
   ]
  },
  {
   "cell_type": "code",
   "execution_count": null,
   "metadata": {},
   "outputs": [],
   "source": [
    "def  check_path(_path):\n",
    "    # 判断存储路径是否存在\n",
    "    if os.path.isdir(_path) or os.path.isabs(_path):\n",
    "        # 判断存储路径是否为空\n",
    "        if not os.listdir(_path):\n",
    "            return _path\n",
    "\n",
    "        else:\n",
    "\n",
    "            print('>>>[-] folder not empty, continue?')\n",
    "            flag = input('>>>[*] Yes:1 No:2 \\n>>>[+] : ')\n",
    "\n",
    "            try:\n",
    "                if flag == '1':\n",
    "                    return _path\n",
    "                else:\n",
    "                    _path = input('>>>[+] input download path:\\n>>>[+] : ')\n",
    "                    check_path(_path)\n",
    "                    \n",
    "            except Exception as e:\n",
    "                print(e)\n",
    "                exit(0)\n",
    "\n",
    "    else:\n",
    "        os.makedirs(_path)\n",
    "        return _path"
   ]
  },
  {
   "cell_type": "code",
   "execution_count": null,
   "metadata": {},
   "outputs": [],
   "source": [
    "def m3u8_video_download(m3u8_url, url_static, _path='/Users/simonguo/Downloads/m3u8download'):\n",
    "    m3u8_obj = m3u8.load(m3u8_url)\n",
    "    full_web_url = []\n",
    "    for file in m3u8_obj.files:\n",
    "        # print(file)\n",
    "        full_web_url.append(url_static + file)\n",
    "    os.chdir(_path)\n",
    "    print('>>>[+] downloading...')\n",
    "    print('-' * 60)\n",
    "    error_get = []\n",
    "    \n",
    "    file_No = 0\n",
    "    \n",
    "    for _url in full_web_url:\n",
    "        # 选项1: .ts视频保存在本地的名称为本身在服务器上的名称\n",
    "        # movie_name = _url.split('/')[11] # 针对具体问题，这里文件名是在url以‘/’分割后的第12个位置，故取index 12-1 [因为index从0开始]        \n",
    "        try:\n",
    "            # 'Connection':'close' 防止请求端口占用\n",
    "            # timeout=30    防止请求时间超长连接\n",
    "            movie = requests.get(_url, headers = {'Connection':'close'}, timeout=60)\n",
    "            # 选项2: 按照数字顺序重命名，利于合并        \n",
    "            file_No += 1\n",
    "            movie_name = str(file_No)+'.ts'\n",
    "            with open(movie_name, 'wb') as movie_content:\n",
    "                movie_content.writelines(movie)  \n",
    "            # 选项1: 打印当前下载文件\n",
    "            # print('>>>[+] File ', movie_name, ' in total ', len(full_web_url), ' files\\tdone')\n",
    "            # 选项2: 打印直观进度条\n",
    "            prograss = file_No * 50 / len(full_web_url)\n",
    "            sys.stdout.write('\\r>>>[+] prograss: [%s%s] %d/%d files done' %('|' * round(prograss), (' ' * (50-round(prograss))), file_No, len(full_web_url)))\n",
    "            sys.stdout.flush()\n",
    "        # 捕获异常，记录失败请求\n",
    "        except:\n",
    "            error_get.append(_url)\n",
    "            continue\n",
    "    # 如果没有不成功的请求就结束\n",
    "    if error_get:\n",
    "        print('Warning: Total of %d request(s) failed, Retrying...' % len(file_list))\n",
    "        print('-' * 60)\n",
    "        download_movie(error_get, _path)\n",
    "    else:\n",
    "        print('\\n>>>[+] Download successfully!!!')\n",
    "    # 合并.ts文件\n",
    "    for filename in range(1, len(full_web_url)+1):\n",
    "        os.system('cat ' + str(filename) + '.ts >> full.ts')"
   ]
  },
  {
   "cell_type": "code",
   "execution_count": null,
   "metadata": {},
   "outputs": [],
   "source": [
    "if __name__ == '__main__':\n",
    "    try:\n",
    "\n",
    "        _m3u8_url = input('>>>[+] input .m3u8 URL (absolute path on computer or full URL link on Internet):\\n>>>[+] : ')\n",
    "        _url_static = input('>>>[+] input static URL for .ts files on server (end with \\'/\\'):\\n>>>[+] : ')\n",
    "        _download_path = input('>>>[+] input download path (default path is \\'default\\'): \\n>>>[+] : ')\n",
    "\n",
    "        if _download_path == 'default':\n",
    "            m3u8_video_download(_m3u8_url, _url_static)\n",
    "        else:\n",
    "            _download_path_checked = check_path(_download_path)\n",
    "            m3u8_video_download(_m3u8_url, _url_static, _download_path_checked)   \n",
    "\n",
    "    except Exception as e:\n",
    "        print(e)"
   ]
  },
  {
   "cell_type": "code",
   "execution_count": null,
   "metadata": {},
   "outputs": [],
   "source": []
  }
 ],
 "metadata": {
  "kernelspec": {
   "display_name": "Python 3",
   "language": "python",
   "name": "python3"
  },
  "language_info": {
   "codemirror_mode": {
    "name": "ipython",
    "version": 3
   },
   "file_extension": ".py",
   "mimetype": "text/x-python",
   "name": "python",
   "nbconvert_exporter": "python",
   "pygments_lexer": "ipython3",
   "version": "3.6.4"
  },
  "toc": {
   "nav_menu": {},
   "number_sections": true,
   "sideBar": true,
   "skip_h1_title": false,
   "title_cell": "Table of Contents",
   "title_sidebar": "Contents",
   "toc_cell": false,
   "toc_position": {},
   "toc_section_display": true,
   "toc_window_display": false
  }
 },
 "nbformat": 4,
 "nbformat_minor": 2
}
